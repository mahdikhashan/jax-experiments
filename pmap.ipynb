{
 "cells": [
  {
   "cell_type": "code",
   "execution_count": 1,
   "id": "cf6b89ac",
   "metadata": {},
   "outputs": [],
   "source": [
    "import os\n",
    "os.environ['XLA_FLAGS'] = '--xla_force_host_platform_device_count=8'"
   ]
  },
  {
   "cell_type": "code",
   "execution_count": 2,
   "id": "8def513e",
   "metadata": {},
   "outputs": [],
   "source": [
    "import jax"
   ]
  },
  {
   "cell_type": "code",
   "execution_count": 3,
   "id": "630f229e",
   "metadata": {},
   "outputs": [
    {
     "data": {
      "text/plain": [
       "[CpuDevice(id=0),\n",
       " CpuDevice(id=1),\n",
       " CpuDevice(id=2),\n",
       " CpuDevice(id=3),\n",
       " CpuDevice(id=4),\n",
       " CpuDevice(id=5),\n",
       " CpuDevice(id=6),\n",
       " CpuDevice(id=7)]"
      ]
     },
     "execution_count": 3,
     "metadata": {},
     "output_type": "execute_result"
    }
   ],
   "source": [
    "jax.devices('cpu')"
   ]
  },
  {
   "cell_type": "code",
   "execution_count": 5,
   "id": "770e9ab3",
   "metadata": {},
   "outputs": [],
   "source": [
    "import jax.numpy as jnp\n",
    "\n",
    "def dot(v1, v2):\n",
    "    return jnp.vdot(v1, v2)"
   ]
  },
  {
   "cell_type": "code",
   "execution_count": 6,
   "id": "4d3ae213",
   "metadata": {},
   "outputs": [
    {
     "data": {
      "text/plain": [
       "Array(4., dtype=float32)"
      ]
     },
     "execution_count": 6,
     "metadata": {},
     "output_type": "execute_result"
    }
   ],
   "source": [
    "dot(jnp.array([1., 1., 1.]), jnp.array([1., 2., 1.]))"
   ]
  },
  {
   "cell_type": "code",
   "execution_count": 7,
   "id": "82895552",
   "metadata": {},
   "outputs": [],
   "source": [
    "from jax import random\n",
    "\n",
    "rng = random.PRNGKey(42)\n",
    "\n",
    "vvs = random.normal(rng, shape=(20_000_000, 3))"
   ]
  },
  {
   "cell_type": "code",
   "execution_count": 8,
   "id": "a9e7e323",
   "metadata": {},
   "outputs": [],
   "source": [
    "v1 = vvs[:10_000_000, :]\n",
    "v2 = vvs[10_000_000:, :]\n",
    "\n",
    "assert v1.shape == v2.shape == (10_000_000, 3)"
   ]
  },
  {
   "cell_type": "code",
   "execution_count": 9,
   "id": "99d7110e",
   "metadata": {},
   "outputs": [],
   "source": [
    "# jax runs computation of a single device by default\n",
    "# pmap = parallel map, map on the array and pass each index on a device\n",
    "\n",
    "# create a parallel version of the dot\n",
    "pdot = jax.pmap(dot)"
   ]
  },
  {
   "cell_type": "code",
   "execution_count": 10,
   "id": "5c3d4847",
   "metadata": {},
   "outputs": [
    {
     "ename": "ValueError",
     "evalue": "compiling computation that requires 10000000 logical devices, but only 8 XLA devices are available (num_replicas=10000000)",
     "output_type": "error",
     "traceback": [
      "\u001b[31m---------------------------------------------------------------------------\u001b[39m",
      "\u001b[31mValueError\u001b[39m                                Traceback (most recent call last)",
      "\u001b[36mCell\u001b[39m\u001b[36m \u001b[39m\u001b[32mIn[10]\u001b[39m\u001b[32m, line 1\u001b[39m\n\u001b[32m----> \u001b[39m\u001b[32m1\u001b[39m x_pmap = \u001b[43mpdot\u001b[49m\u001b[43m(\u001b[49m\u001b[43mv1\u001b[49m\u001b[43m,\u001b[49m\u001b[43m \u001b[49m\u001b[43mv2\u001b[49m\u001b[43m)\u001b[49m\n",
      "    \u001b[31m[... skipping hidden 7 frame]\u001b[39m\n",
      "\u001b[36mFile \u001b[39m\u001b[32m~/tmp/jax-experiments/.venv/lib/python3.13/site-packages/jax/_src/interpreters/pxla.py:1019\u001b[39m, in \u001b[36mUnloadedPmapExecutable.from_hlo\u001b[39m\u001b[34m(***failed resolving arguments***)\u001b[39m\n\u001b[32m   1016\u001b[39m \u001b[38;5;28;01mif\u001b[39;00m shards.num_global_shards > xb.device_count(pci.backend):\n\u001b[32m   1017\u001b[39m   msg = (\u001b[33m\"\u001b[39m\u001b[33mcompiling computation that requires \u001b[39m\u001b[38;5;132;01m{}\u001b[39;00m\u001b[33m logical devices, but only \u001b[39m\u001b[38;5;132;01m{}\u001b[39;00m\u001b[33m XLA \u001b[39m\u001b[33m\"\u001b[39m\n\u001b[32m   1018\u001b[39m          \u001b[33m\"\u001b[39m\u001b[33mdevices are available (num_replicas=\u001b[39m\u001b[38;5;132;01m{}\u001b[39;00m\u001b[33m)\u001b[39m\u001b[33m\"\u001b[39m)\n\u001b[32m-> \u001b[39m\u001b[32m1019\u001b[39m   \u001b[38;5;28;01mraise\u001b[39;00m \u001b[38;5;167;01mValueError\u001b[39;00m(msg.format(shards.num_global_shards,\n\u001b[32m   1020\u001b[39m                               xb.device_count(pci.backend),\n\u001b[32m   1021\u001b[39m                               replicas.num_global_replicas))\n\u001b[32m   1022\u001b[39m \u001b[38;5;66;03m# On a single host, we simply grab the first N devices from jax.devices().\u001b[39;00m\n\u001b[32m   1023\u001b[39m \u001b[38;5;66;03m# In the single host case, we want the default device order of pmap to\u001b[39;00m\n\u001b[32m   1024\u001b[39m \u001b[38;5;66;03m# match jax.devices().\u001b[39;00m\n\u001b[32m   1025\u001b[39m \u001b[38;5;66;03m# On multiple hosts, we create a default device assignment that ensures\u001b[39;00m\n\u001b[32m   1026\u001b[39m \u001b[38;5;66;03m# each host is responsible for a contiguous set of replicas.\u001b[39;00m\n\u001b[32m   1027\u001b[39m \u001b[38;5;28;01mif\u001b[39;00m shards.num_global_shards > shards.num_local_shards:\n\u001b[32m   1028\u001b[39m   \u001b[38;5;66;03m# TODO(skye): use a locality-aware assignment that satisfies the above\u001b[39;00m\n\u001b[32m   1029\u001b[39m   \u001b[38;5;66;03m# constraint.\u001b[39;00m\n",
      "\u001b[31mValueError\u001b[39m: compiling computation that requires 10000000 logical devices, but only 8 XLA devices are available (num_replicas=10000000)"
     ]
    }
   ],
   "source": [
    "x_pmap = pdot(v1, v2)"
   ]
  },
  {
   "cell_type": "code",
   "execution_count": null,
   "id": "f939e61e",
   "metadata": {},
   "outputs": [],
   "source": []
  }
 ],
 "metadata": {
  "kernelspec": {
   "display_name": ".venv",
   "language": "python",
   "name": "python3"
  },
  "language_info": {
   "codemirror_mode": {
    "name": "ipython",
    "version": 3
   },
   "file_extension": ".py",
   "mimetype": "text/x-python",
   "name": "python",
   "nbconvert_exporter": "python",
   "pygments_lexer": "ipython3",
   "version": "3.13.2"
  }
 },
 "nbformat": 4,
 "nbformat_minor": 5
}
